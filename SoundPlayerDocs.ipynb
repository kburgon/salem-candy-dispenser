{
 "metadata": {
  "language_info": {
   "codemirror_mode": {
    "name": "ipython",
    "version": 3
   },
   "file_extension": ".py",
   "mimetype": "text/x-python",
   "name": "python",
   "nbconvert_exporter": "python",
   "pygments_lexer": "ipython3",
   "version": "3.8.2-final"
  },
  "orig_nbformat": 2,
  "kernelspec": {
   "name": "python38264bitpythonenvvenva495e20970cc4f3ca9c1e62eafd171c3",
   "display_name": "Python 3.8.2 64-bit ('Python_env': venv)"
  }
 },
 "nbformat": 4,
 "nbformat_minor": 2,
 "cells": [
  {
   "source": [
    "# SoundPlayer Usage Instructions\n",
    "\n",
    "The `SoundPlayer` class plays sounds contained within the Sounds directory in the project.  Sounds can be played simmply by initializing the class and calling the `play` method, passing in the name of the file to play.  The name of the file should not contain the file extension of the file to play."
   ],
   "cell_type": "markdown",
   "metadata": {}
  },
  {
   "cell_type": "code",
   "execution_count": 1,
   "metadata": {
    "tags": []
   },
   "outputs": [
    {
     "output_type": "stream",
     "name": "stdout",
     "text": "playing name hag_idle\n"
    }
   ],
   "source": [
    "from SoundPlayer import SoundPlayer\n",
    "\n",
    "player = SoundPlayer()\n",
    "player.play('hag_idle')"
   ]
  },
  {
   "source": [
    "If no parameter is included, a default sound file will be played."
   ],
   "cell_type": "markdown",
   "metadata": {}
  },
  {
   "cell_type": "code",
   "execution_count": 2,
   "metadata": {
    "tags": []
   },
   "outputs": [
    {
     "output_type": "stream",
     "name": "stdout",
     "text": "playing name hag_idle\n"
    }
   ],
   "source": [
    "player.play()"
   ]
  }
 ]
}