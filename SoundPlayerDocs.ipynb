{
 "metadata": {
  "language_info": {
   "codemirror_mode": {
    "name": "ipython",
    "version": 3
   },
   "file_extension": ".py",
   "mimetype": "text/x-python",
   "name": "python",
   "nbconvert_exporter": "python",
   "pygments_lexer": "ipython3",
   "version": "3.8.2-final"
  },
  "orig_nbformat": 2,
  "kernelspec": {
   "name": "python38264bitpythonenvvenva495e20970cc4f3ca9c1e62eafd171c3",
   "display_name": "Python 3.8.2 64-bit ('Python_env': venv)"
  }
 },
 "nbformat": 4,
 "nbformat_minor": 2,
 "cells": [
  {
   "source": [
    "# SoundPlayer Usage Instructions\n",
    "\n",
    "The `SoundPlayer` class plays sounds contained within the Sounds directory in the project.  Sounds can be played simmply by initializing the class and calling the available methods.\n",
    "\n",
    "The sounds that are available to play are located in the folder `Sounds/`.  Files of type .mp3 and .wav are supported."
   ],
   "cell_type": "markdown",
   "metadata": {}
  },
  {
   "source": [
    "## Getting a List of Available Sounds\n",
    "In order to get a list of the sounds that are available to play, call the method `SoundPlayer.list_sounds()`."
   ],
   "cell_type": "markdown",
   "metadata": {}
  },
  {
   "cell_type": "code",
   "execution_count": 1,
   "metadata": {},
   "outputs": [
    {
     "output_type": "execute_result",
     "data": {
      "text/plain": "['hag_idle.mp3']"
     },
     "metadata": {},
     "execution_count": 1
    }
   ],
   "source": [
    "from SoundPlayer import SoundPlayer\n",
    "\n",
    "player = SoundPlayer()\n",
    "player.list_sounds()"
   ]
  },
  {
   "source": [
    "## Playing a Sound\n",
    "\n",
    "A sound can be played by calling the method `SoundPlayer.play(sound)`, where sound is the string name of the sound that will be played."
   ],
   "cell_type": "markdown",
   "metadata": {}
  },
  {
   "cell_type": "code",
   "execution_count": 2,
   "metadata": {
    "tags": []
   },
   "outputs": [
    {
     "output_type": "stream",
     "name": "stdout",
     "text": "playing name hag_idle.mp3\n"
    }
   ],
   "source": [
    "sound = player.list_sounds()[0]\n",
    "player.play(sound)"
   ]
  }
 ]
}