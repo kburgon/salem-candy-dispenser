{
 "metadata": {
  "language_info": {
   "codemirror_mode": {
    "name": "ipython",
    "version": 3
   },
   "file_extension": ".py",
   "mimetype": "text/x-python",
   "name": "python",
   "nbconvert_exporter": "python",
   "pygments_lexer": "ipython3",
   "version": "3.8.5-final"
  },
  "orig_nbformat": 2,
  "kernelspec": {
   "name": "Python 3.8.5 64-bit ('Python_env')",
   "display_name": "Python 3.8.5 64-bit ('Python_env')",
   "metadata": {
    "interpreter": {
     "hash": "26e12a15b0b45cc8a1c6ae3d702d06ac8dccf46e9ef481c72ad5b1d4df16d955"
    }
   }
  }
 },
 "nbformat": 4,
 "nbformat_minor": 2,
 "cells": [
  {
   "source": [
    "# DbLogger\n",
    "\n",
    "The DbLogger utilizes a simple SQLite database to log when a trigger has occurred.\n",
    "\n",
    "## Usage\n",
    "\n",
    "Using the methods in the module should be as simple as importing the file."
   ],
   "cell_type": "markdown",
   "metadata": {}
  },
  {
   "cell_type": "code",
   "execution_count": 1,
   "metadata": {},
   "outputs": [],
   "source": [
    "import DbLogger"
   ]
  },
  {
   "source": [
    "In order to log, just call `log_trigger()`.  If the log database file doesn't exist, then it will be created automatically."
   ],
   "cell_type": "markdown",
   "metadata": {}
  },
  {
   "cell_type": "code",
   "execution_count": 2,
   "metadata": {
    "tags": []
   },
   "outputs": [
    {
     "output_type": "stream",
     "name": "stdout",
     "text": [
      "Inserting log into table...\n",
      "Log inserted.\n"
     ]
    }
   ],
   "source": [
    "DbLogger.log_trigger()"
   ]
  },
  {
   "source": [
    "All logs can be retrieved by calling `get_logs()`."
   ],
   "cell_type": "markdown",
   "metadata": {}
  },
  {
   "cell_type": "code",
   "execution_count": 3,
   "metadata": {
    "tags": []
   },
   "outputs": [
    {
     "output_type": "stream",
     "name": "stdout",
     "text": [
      "Getting all entries\nResults: \n  2020-10-06 21:57:06\n  2020-10-06 21:57:27\n  2020-10-06 21:57:34\n  2020-10-06 21:57:37\n  2020-10-06 22:02:03\n  2020-10-27 22:33:08\n"
     ]
    }
   ],
   "source": [
    "DbLogger.get_logs()"
   ]
  },
  {
   "cell_type": "code",
   "execution_count": null,
   "metadata": {},
   "outputs": [],
   "source": []
  }
 ]
}